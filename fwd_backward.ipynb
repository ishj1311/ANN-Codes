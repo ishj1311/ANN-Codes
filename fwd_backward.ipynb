{
 "cells": [
  {
   "cell_type": "code",
   "execution_count": 2,
   "id": "0c912a0f-2c31-4c27-988a-fd07c33dd292",
   "metadata": {},
   "outputs": [
    {
     "name": "stdout",
     "output_type": "stream",
     "text": [
      "[[0.01132623]\n",
      " [0.98890705]\n",
      " [0.99031695]\n",
      " [0.01082889]]\n"
     ]
    }
   ],
   "source": [
    "import numpy as np  \n",
    "\n",
    "def sigmoid(x):\n",
    "    return 1 / (1 + np.exp(-x))\n",
    "\n",
    "def sigmoid_derivative(x):\n",
    "    return x * (1 - x)\n",
    "\n",
    "def forward(X, W1, b1, W2, b2):\n",
    "    z1 = X @ W1 + b1 \n",
    "    a1 = sigmoid(z1)\n",
    "    z2 = a1 @ W2 + b2 \n",
    "    a2 = sigmoid(z2)\n",
    "    return a2\n",
    "\n",
    "def backward(X, y, output, W1, b1, W2, b2, a1):\n",
    "    output_error = y - output\n",
    "    output_delta = output_error * sigmoid_derivative(output) \n",
    "    hidden_error = output_delta @ W2.T\n",
    "    hidden_delta = hidden_error * sigmoid_derivative(a1) \n",
    "    W1 += X.T @ hidden_delta\n",
    "    b1 += np.sum(hidden_delta, axis=0)\n",
    "    W2 += a1.T @ output_delta\n",
    "    b2 += np.sum(output_delta, axis=0) \n",
    "\n",
    "        \n",
    "def train(X, y, W1, b1, W2, b2, epochs): \n",
    "    for i in range(epochs):\n",
    "        output = forward(X, W1, b1, W2, b2)\n",
    "        a1 = sigmoid(X @ W1 + b1)\n",
    "        backward(X, y, output, W1, b1, W2, b2, a1)\n",
    "\n",
    "\n",
    "def predict(X, W1, b1, W2, b2):\n",
    "    # Make predictions for a given set of inputs \n",
    "    return forward(X, W1, b1, W2, b2)\n",
    "\n",
    "# Define the input and output datasets\n",
    "X = np.array([[0, 0], [0, 1], [1, 0], [1, 1]])\n",
    "y = np.array([[0], [1], [1], [0]])\n",
    "\n",
    "# Initialize weights and biases\n",
    "W1 = np.random.randn(2, 4) \n",
    "b1 = np.zeros(4)\n",
    "W2 = np.random.randn(4, 1) \n",
    "b2 = np.zeros(1)\n",
    "\n",
    "# Train the neural network\n",
    "train(X, y, W1, b1, W2, b2, epochs=10000)\n",
    "\n",
    "# Use the trained neural network to make predictions\n",
    "predictions = predict(X, W1, b1, W2, b2)\n",
    "\n",
    "# Print the predictions \n",
    "print(predictions)\n"
   ]
  },
  {
   "cell_type": "code",
   "execution_count": null,
   "id": "a556e864-83c4-4d3d-8895-c9326577556c",
   "metadata": {},
   "outputs": [],
   "source": []
  }
 ],
 "metadata": {
  "kernelspec": {
   "display_name": "Python 3 (ipykernel)",
   "language": "python",
   "name": "python3"
  },
  "language_info": {
   "codemirror_mode": {
    "name": "ipython",
    "version": 3
   },
   "file_extension": ".py",
   "mimetype": "text/x-python",
   "name": "python",
   "nbconvert_exporter": "python",
   "pygments_lexer": "ipython3",
   "version": "3.12.3"
  }
 },
 "nbformat": 4,
 "nbformat_minor": 5
}
