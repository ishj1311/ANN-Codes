{
 "cells": [
  {
   "cell_type": "code",
   "execution_count": null,
   "id": "ecd549c5-cea2-4f82-81b3-d6bbe7042db6",
   "metadata": {},
   "outputs": [],
   "source": []
  }
 ],
 "metadata": {
  "kernelspec": {
   "display_name": "",
   "name": ""
  },
  "language_info": {
   "name": ""
  }
 },
 "nbformat": 4,
 "nbformat_minor": 5
}
